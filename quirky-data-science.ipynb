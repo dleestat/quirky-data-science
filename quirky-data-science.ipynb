{
 "cells": [
  {
   "cell_type": "code",
   "execution_count": 1,
   "metadata": {},
   "outputs": [],
   "source": [
    "import matplotlib.pyplot as plt\n",
    "import numpy as np\n",
    "import pandas as pd"
   ]
  },
  {
   "cell_type": "markdown",
   "metadata": {},
   "source": [
    "# Quirky Data Science\n",
    "*By [Daniel Lee](https://github.com/dleestat)*"
   ]
  },
  {
   "cell_type": "markdown",
   "metadata": {},
   "source": [
    "## A Knights Problem"
   ]
  },
  {
   "cell_type": "markdown",
   "metadata": {},
   "source": [
    "### Question\n",
    "If a knight starts in the corner of a chessboard and on each step moves at random, how long on average does it take to return to its starting position?\n",
    "\n",
    "<img src='img/knight.jpeg' style='width: 200px'/>"
   ]
  },
  {
   "cell_type": "markdown",
   "metadata": {},
   "source": [
    "### Answer\n",
    "For this problem, we will use a result derived from graph theory and stochastic processes.\n",
    "\n",
    "---\n",
    "**Random walk on a graph:**\n",
    "\n",
    "Let $G=(V,E)$ be a finite, undirected, connected graph. For each vertex $v \\in V$, let $d(v)$ be the degree of $v$. For all $u$, $v \\in V$, write $u \\sim v$ if $u$ and $v$ are adjacent. For all $u$, $v \\in V$, let\n",
    "\n",
    "$$p(v,w) = \\begin{cases}\\frac{1}{d(v)}~\\text{if}~w \\sim v\\\\0~\\text{otherwise.}\\end{cases}$$\n",
    "\n",
    "The discrete time Markov chain with state space $V$ and transition probabilities $p(v,w)$ is called the random walk on $G$. For example, if $p(5,2)=\\frac{1}{3}$, if we are currently at vertex $5$, there is a $\\frac{1}{3}$ probability we willl visit vertex $2$ next.\n",
    "\n",
    "Note that the random walk is irreducible because the graph is connected. Since the random walk is irreducible and has a finite state space, the random walk has a unique stationary distribution. Here, the unique stationary distribution of the random walk is a probability distribution over $V$ that remains unchanged as time progresses.\n",
    "\n",
    "Let $d=\\sum_{w \\in V} d(w)$ be the sum of the degrees of the vertices in $V$. For all $v \\in V$, let $\\pi(v)=\\frac{d(v)}{d}$, so\n",
    "\n",
    "$$\\sum_{w \\in V} \\pi(w)p(w,v)\n",
    "= \\sum_{w \\in V} \\frac{d(w)}{d}p(w,v)\n",
    "= \\sum_{w: w \\sim v} \\frac{d(w)}{d} \\cdot \\frac{1}{d(w)}\n",
    "= \\sum_{w: w \\sim v} \\frac{1}{d}\n",
    "= \\frac{d(v)}{d}\n",
    "= \\pi(v),$$\n",
    "\n",
    "so $\\pi$ is a stationary distribution for the random walk on $G$. As a result, $\\pi(v)=\\frac{d(v)}{d}$ is the long run fraction of time that the random walk spends at vertex $v$.\n",
    "\n",
    "---\n",
    "Here, the knight's movement across the board is a random walk on the graph whose vertices are the 64 squares such that $v \\sim w$ if a knight can move from square $v$ to square $w$. So $d(v)$ is the number of squares to which a knight can move from square $v$ and $\\pi(v)=\\frac{d(v)}{d}$ is the long run fraction of time that the knight spends at square $v$.\n",
    "\n",
    "The plot below visualizes the number of squares to which a knight can move from each square of the chessboard."
   ]
  },
  {
   "cell_type": "code",
   "execution_count": 2,
   "metadata": {},
   "outputs": [
    {
     "data": {
      "image/png": "[encoded data removed]",
      "text/plain": [
       "<Figure size 432x288 with 2 Axes>"
      ]
     },
     "metadata": {
      "needs_background": "light"
     },
     "output_type": "display_data"
    }
   ],
   "source": [
    "degrees = np.array([\n",
    "    [2,3,4,4,4,4,3,2],\n",
    "    [3,4,6,6,6,6,4,3],\n",
    "    [4,6,8,8,8,8,6,4],\n",
    "    [4,6,8,8,8,8,6,4],\n",
    "    [4,6,8,8,8,8,6,4],\n",
    "    [4,6,8,8,8,8,6,4],\n",
    "    [3,4,6,6,6,6,4,3],\n",
    "    [2,3,4,4,4,4,3,2],\n",
    "])\n",
    "plt.imshow(degrees)\n",
    "plt.colorbar();"
   ]
  },
  {
   "cell_type": "code",
   "execution_count": 3,
   "metadata": {},
   "outputs": [
    {
     "data": {
      "text/plain": [
       "336"
      ]
     },
     "execution_count": 3,
     "metadata": {},
     "output_type": "execute_result"
    }
   ],
   "source": [
    "np.sum(degrees)"
   ]
  },
  {
   "cell_type": "markdown",
   "metadata": {},
   "source": [
    "Here, $d=336$. If $x$ is a corner square, $d(x)=2$, so $\\pi(x)=\\frac{d(x)}{d}=\\frac{2}{336}=\\frac{1}{118}$ is the long run fraction of time that the knight spends at square $x$. Therefore, the random walk's expected return time to $x$ is $\\frac{1}{\\pi(x)}=118$ moves, so it takes 118 moves on average for the knight to return to its starting position."
   ]
  },
  {
   "cell_type": "markdown",
   "metadata": {},
   "source": [
    "### References\n",
    "- https://www.chess.com/analysis"
   ]
  }
 ],
 "metadata": {
  "kernelspec": {
   "display_name": "Python 3",
   "language": "python",
   "name": "python3"
  },
  "language_info": {
   "codemirror_mode": {
    "name": "ipython",
    "version": 3
   },
   "file_extension": ".py",
   "mimetype": "text/x-python",
   "name": "python",
   "nbconvert_exporter": "python",
   "pygments_lexer": "ipython3",
   "version": "3.6.8"
  }
 },
 "nbformat": 4,
 "nbformat_minor": 2
}
